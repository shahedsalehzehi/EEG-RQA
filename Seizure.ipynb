{
  "cells": [
    {
      "cell_type": "markdown",
      "metadata": {
        "id": "QLZYdLoZEWGO"
      },
      "source": [
        "read_data"
      ]
    },
    {
      "cell_type": "code",
      "execution_count": null,
      "metadata": {
        "id": "YggHRRBmSYON"
      },
      "outputs": [],
      "source": [
        "from google.colab import drive\n",
        "drive.mount('/content/drive')"
      ]
    },
    {
      "cell_type": "code",
      "execution_count": null,
      "metadata": {
        "id": "PpuZHh2CDhuX"
      },
      "outputs": [],
      "source": [
        "import glob\n",
        "import numpy as np\n",
        "import pandas as pd\n",
        "import matplotlib.pyplot as plt\n",
        "import csv\n",
        "import os\n",
        "import cv2\n",
        "from sklearn.model_selection import StratifiedKFold\n",
        "\n",
        "from google.colab.patches import cv2_imshow\n",
        "from sklearn.model_selection import train_test_split\n",
        "from tensorflow.keras.applications.resnet50 import ResNet50\n",
        "from tensorflow.keras.layers import Dense, GlobalAveragePooling2D\n",
        "from tensorflow.keras.models import Model\n",
        "from tensorflow.keras import layers, models\n",
        "import tensorflow as tf\n",
        "from tensorflow.keras.layers import Dropout\n",
        "from keras.layers import GlobalAveragePooling2D, GlobalMaxPooling2D, Reshape, Dense, multiply, Permute, Concatenate, Conv2D, Add, Activation, Lambda,MaxPooling2D,Flatten,Input,Attention"
      ]
    },
    {
      "cell_type": "code",
      "execution_count": null,
      "metadata": {
        "id": "GPcMggVV3xkT"
      },
      "outputs": [],
      "source": [
        "data = np.load(\"/content/drive/MyDrive/Deep Learning/npy_data/data.npy\")\n",
        "label = np.load(\"/content/drive/MyDrive/Deep Learning/npy_data/label.npy\")"
      ]
    },
    {
      "cell_type": "code",
      "execution_count": null,
      "metadata": {
        "id": "WbipEC9rJIAN",
        "colab": {
          "base_uri": "https://localhost:8080/"
        },
        "outputId": "7b535a66-747d-431b-9b6a-5d1550827644"
      },
      "outputs": [
        {
          "output_type": "stream",
          "name": "stdout",
          "text": [
            "(1400, 256, 256, 3)\n"
          ]
        }
      ],
      "source": [
        "print(data.shape)"
      ]
    },
    {
      "cell_type": "code",
      "execution_count": null,
      "metadata": {
        "id": "xw1RaolfcyQX"
      },
      "outputs": [],
      "source": [
        "data=data/255"
      ]
    },
    {
      "cell_type": "code",
      "source": [
        "skf = StratifiedKFold(n_splits=5, shuffle=True, random_state=1)\n",
        "\n",
        "fold = 1\n",
        "for train_index, test_index in skf.split(data, label):\n",
        "    trainX, trainy = data[train_index],label[train_index]\n",
        "    valX, valy = data[test_index], label[test_index]\n",
        "    np.save(f\"/content/drive/MyDrive/Deep Learning/kfold/trainX_{fold}.npy\",trainX)\n",
        "    np.save(f\"/content/drive/MyDrive/Deep Learning/kfold/valX_{fold}.npy\",valX)\n",
        "    np.save(f\"/content/drive/MyDrive/Deep Learning/kfold/trainy_{fold}.npy\",trainy)\n",
        "    np.save(f\"/content/drive/MyDrive/Deep Learning/kfold/valy_{fold}.npy\",valy)\n",
        "    fold+=1"
      ],
      "metadata": {
        "id": "7alXJ-uzkgQB"
      },
      "execution_count": null,
      "outputs": []
    },
    {
      "cell_type": "code",
      "execution_count": null,
      "metadata": {
        "colab": {
          "base_uri": "https://localhost:8080/"
        },
        "id": "4oczigQAvC8B",
        "outputId": "5b4b7b89-2f47-40c1-e409-91adbe2abae7"
      },
      "outputs": [
        {
          "output_type": "stream",
          "name": "stdout",
          "text": [
            "(1400, 256, 256, 3) (1400,)\n"
          ]
        }
      ],
      "source": [
        "print(data.shape , label.shape)"
      ]
    },
    {
      "cell_type": "code",
      "execution_count": null,
      "metadata": {
        "colab": {
          "base_uri": "https://localhost:8080/"
        },
        "id": "D7yp_J51vGDC",
        "outputId": "792a7094-0b98-4ec9-f931-7c52f9daf4e2"
      },
      "outputs": [
        {
          "output_type": "execute_result",
          "data": {
            "text/plain": [
              "(array([0, 1]), array([700, 700]))"
            ]
          },
          "metadata": {},
          "execution_count": 12
        }
      ],
      "source": [
        "np.unique(label , return_counts=True)"
      ]
    },
    {
      "cell_type": "code",
      "execution_count": null,
      "metadata": {
        "id": "Sk412xJozhlo"
      },
      "outputs": [],
      "source": [
        "fold = 1\n",
        "X_train=np.load(f\"/content/drive/MyDrive/Deep Learning/kfold/trainX_{fold}.npy\")\n",
        "y_train =np.load(f\"/content/drive/MyDrive/Deep Learning/kfold/trainy_{fold}.npy\")\n",
        "X_test=np.load(f\"/content/drive/MyDrive/Deep Learning/kfold/valX_{fold}.npy\")\n",
        "y_test=np.load(f\"/content/drive/MyDrive/Deep Learning/kfold/valy_{fold}.npy\")"
      ]
    },
    {
      "cell_type": "code",
      "execution_count": null,
      "metadata": {
        "colab": {
          "base_uri": "https://localhost:8080/"
        },
        "id": "UPcSXPFD0yTV",
        "outputId": "73670b0d-9932-4d26-a769-7acb455fdba0"
      },
      "outputs": [
        {
          "output_type": "execute_result",
          "data": {
            "text/plain": [
              "((1120, 256, 256, 3), (280, 256, 256, 3), (1120,), (280,))"
            ]
          },
          "metadata": {},
          "execution_count": 14
        }
      ],
      "source": [
        "X_train.shape, X_test.shape, y_train.shape, y_test.shape"
      ]
    },
    {
      "cell_type": "code",
      "execution_count": null,
      "metadata": {
        "colab": {
          "base_uri": "https://localhost:8080/"
        },
        "id": "LT1OMo5_TDz7",
        "outputId": "5884db82-2d14-49d7-c5fb-202bb55f533b"
      },
      "outputs": [
        {
          "output_type": "execute_result",
          "data": {
            "text/plain": [
              "(array([0, 1]), array([560, 560]))"
            ]
          },
          "metadata": {},
          "execution_count": 15
        }
      ],
      "source": [
        "np.unique(y_train , return_counts=True)"
      ]
    },
    {
      "cell_type": "code",
      "execution_count": null,
      "metadata": {
        "colab": {
          "base_uri": "https://localhost:8080/"
        },
        "id": "i8Q3evoSTEoJ",
        "outputId": "1d3945f6-7c13-4e27-9135-8347bd5d16da"
      },
      "outputs": [
        {
          "output_type": "execute_result",
          "data": {
            "text/plain": [
              "(array([0, 1]), array([140, 140]))"
            ]
          },
          "metadata": {},
          "execution_count": 16
        }
      ],
      "source": [
        "np.unique(y_test , return_counts=True)"
      ]
    },
    {
      "cell_type": "code",
      "execution_count": null,
      "metadata": {
        "id": "airBAMrGKQ6F"
      },
      "outputs": [],
      "source": [
        "# from keras.utils import to_categorical\n",
        "# y_train= to_categorical(y_train,2)\n",
        "# y_test= to_categorical(y_test,2)"
      ]
    },
    {
      "cell_type": "code",
      "execution_count": null,
      "metadata": {
        "colab": {
          "base_uri": "https://localhost:8080/"
        },
        "id": "jeGoi-yHLMsf",
        "outputId": "b7fbe6bb-8023-4ea1-f744-1e25faa63697"
      },
      "outputs": [
        {
          "output_type": "stream",
          "name": "stdout",
          "text": [
            "(1120,) (280,)\n"
          ]
        }
      ],
      "source": [
        "print(y_train.shape,y_test.shape)"
      ]
    },
    {
      "cell_type": "code",
      "execution_count": null,
      "metadata": {
        "id": "4HNF2c0tUazu",
        "colab": {
          "base_uri": "https://localhost:8080/"
        },
        "outputId": "8f0d161c-d76c-4b54-8c6c-29c96a06276f"
      },
      "outputs": [
        {
          "output_type": "stream",
          "name": "stdout",
          "text": [
            "Model: \"model\"\n",
            "__________________________________________________________________________________________________\n",
            " Layer (type)                Output Shape                 Param #   Connected to                  \n",
            "==================================================================================================\n",
            " input_1 (InputLayer)        [(None, 256, 256, 3)]        0         []                            \n",
            "                                                                                                  \n",
            " conv2d (Conv2D)             (None, 256, 256, 32)         896       ['input_1[0][0]']             \n",
            "                                                                                                  \n",
            " max_pooling2d (MaxPooling2  (None, 128, 128, 32)         0         ['conv2d[0][0]']              \n",
            " D)                                                                                               \n",
            "                                                                                                  \n",
            " conv2d_1 (Conv2D)           (None, 128, 128, 64)         18496     ['max_pooling2d[0][0]']       \n",
            "                                                                                                  \n",
            " max_pooling2d_1 (MaxPoolin  (None, 64, 64, 64)           0         ['conv2d_1[0][0]']            \n",
            " g2D)                                                                                             \n",
            "                                                                                                  \n",
            " conv2d_2 (Conv2D)           (None, 64, 64, 128)          73856     ['max_pooling2d_1[0][0]']     \n",
            "                                                                                                  \n",
            " max_pooling2d_2 (MaxPoolin  (None, 32, 32, 128)          0         ['conv2d_2[0][0]']            \n",
            " g2D)                                                                                             \n",
            "                                                                                                  \n",
            " conv2d_3 (Conv2D)           (None, 32, 32, 256)          295168    ['max_pooling2d_2[0][0]']     \n",
            "                                                                                                  \n",
            " max_pooling2d_3 (MaxPoolin  (None, 16, 16, 256)          0         ['conv2d_3[0][0]']            \n",
            " g2D)                                                                                             \n",
            "                                                                                                  \n",
            " attention (Attention)       (None, 16, 16, 256)          0         ['max_pooling2d_3[0][0]',     \n",
            "                                                                     'max_pooling2d_3[0][0]']     \n",
            "                                                                                                  \n",
            " flatten (Flatten)           (None, 65536)                0         ['attention[0][0]']           \n",
            "                                                                                                  \n",
            " dense (Dense)               (None, 512)                  3355494   ['flatten[0][0]']             \n",
            "                                                          4                                       \n",
            "                                                                                                  \n",
            " dropout (Dropout)           (None, 512)                  0         ['dense[0][0]']               \n",
            "                                                                                                  \n",
            " dense_1 (Dense)             (None, 1)                    513       ['dropout[0][0]']             \n",
            "                                                                                                  \n",
            "==================================================================================================\n",
            "Total params: 33943873 (129.49 MB)\n",
            "Trainable params: 33943873 (129.49 MB)\n",
            "Non-trainable params: 0 (0.00 Byte)\n",
            "__________________________________________________________________________________________________\n"
          ]
        }
      ],
      "source": [
        "inputs = Input((256, 256, 3))\n",
        "\n",
        "conv1 = Conv2D(filters = 32, kernel_size = (3, 3), activation = 'relu', padding='same')(inputs)\n",
        "maxpool1 = MaxPooling2D(pool_size = (2, 2), strides=(2, 2))(conv1)\n",
        "\n",
        "\n",
        "\n",
        "conv2 = Conv2D(filters = 64, kernel_size = (3, 3), activation = 'relu', padding='same')(maxpool1)\n",
        "maxpool2 = MaxPooling2D(pool_size = (2, 2), strides=(2, 2))(conv2)\n",
        "\n",
        "conv3 = Conv2D(filters = 128, kernel_size = (3, 3), activation = 'relu', padding='same')(maxpool2)\n",
        "maxpool3 = MaxPooling2D(pool_size = (2, 2), strides=(2, 2))(conv3)\n",
        "\n",
        "conv4 = Conv2D(filters = 256, kernel_size = (3, 3), activation = 'relu', padding='same')(maxpool3)\n",
        "maxpool4 = MaxPooling2D(pool_size = (2, 2), strides=(2, 2))(conv4)\n",
        "\n",
        "attn = Attention()([maxpool4, maxpool4])\n",
        "\n",
        "flattened = Flatten()(attn)\n",
        "\n",
        "fc1 = Dense(units = 512, activation = 'relu')(flattened)\n",
        "drop1 = Dropout(rate = 0.2)(fc1)\n",
        "\n",
        "final = Dense(units = 1,activation='sigmoid')(drop1)\n",
        "\n",
        "Rqa_net = Model(inputs=inputs, outputs=final)\n",
        "Rqa_net.summary()"
      ]
    },
    {
      "cell_type": "code",
      "execution_count": null,
      "metadata": {
        "id": "eNxaN_Uh-uCL"
      },
      "outputs": [],
      "source": [
        "Rqa_net.compile(optimizer=tf.keras.optimizers.Adam(learning_rate=0.00001), loss='binary_crossentropy',metrics=['accuracy'])\n"
      ]
    },
    {
      "cell_type": "code",
      "execution_count": null,
      "metadata": {
        "id": "R36l3He-4_x-"
      },
      "outputs": [],
      "source": [
        "import tensorflow as tf\n",
        "checkpoint_filepath = ('/content/drive/MyDrive/Deep Learning/save_model/Rqanet_{}.h5'.format(fold))\n",
        "model_checkpoint_callback = tf.keras.callbacks.ModelCheckpoint(\n",
        "    filepath=checkpoint_filepath,\n",
        "    save_weights_only=False,\n",
        "    save_best_only=True,\n",
        "    monitor='val_accuracy',\n",
        "    mode='max',\n",
        "    verbose=2)\n",
        "\n",
        "filename = \"/content/drive/MyDrive/Deep Learning/save_model/Rqanet_{}.csv\".format(fold)\n",
        "csv_logger = tf.keras.callbacks.CSVLogger(filename, separator=\",\", append=True)"
      ]
    },
    {
      "cell_type": "code",
      "execution_count": null,
      "metadata": {
        "colab": {
          "base_uri": "https://localhost:8080/"
        },
        "id": "tV_2xWHw4gfM",
        "outputId": "b0851aa5-ceee-404e-a9ff-e50f88c6db97"
      },
      "outputs": [
        {
          "output_type": "stream",
          "name": "stdout",
          "text": [
            "Epoch 1/10\n",
            "139/140 [============================>.] - ETA: 0s - loss: 0.5096 - accuracy: 0.7743\n",
            "Epoch 1: val_accuracy improved from -inf to 0.85714, saving model to /content/drive/MyDrive/Deep Learning/save_model/Rqanet_2.h5\n"
          ]
        },
        {
          "output_type": "stream",
          "name": "stderr",
          "text": [
            "/usr/local/lib/python3.10/dist-packages/keras/src/engine/training.py:3103: UserWarning: You are saving your model as an HDF5 file via `model.save()`. This file format is considered legacy. We recommend using instead the native Keras format, e.g. `model.save('my_model.keras')`.\n",
            "  saving_api.save_model(\n"
          ]
        },
        {
          "output_type": "stream",
          "name": "stdout",
          "text": [
            "\b\b\b\b\b\b\b\b\b\b\b\b\b\b\b\b\b\b\b\b\b\b\b\b\b\b\b\b\b\b\b\b\b\b\b\b\b\b\b\b\b\b\b\b\b\b\b\b\b\b\b\b\b\b\b\b\b\b\b\b\b\b\b\b\b\b\b\b\b\b\b\b\b\b\b\b\b\b\b\b\b\b\b\b\r140/140 [==============================] - 21s 77ms/step - loss: 0.5071 - accuracy: 0.7759 - val_loss: 0.3438 - val_accuracy: 0.8571\n",
            "Epoch 2/10\n",
            "139/140 [============================>.] - ETA: 0s - loss: 0.2832 - accuracy: 0.9083\n",
            "Epoch 2: val_accuracy improved from 0.85714 to 0.90000, saving model to /content/drive/MyDrive/Deep Learning/save_model/Rqanet_2.h5\n",
            "140/140 [==============================] - 10s 75ms/step - loss: 0.2815 - accuracy: 0.9089 - val_loss: 0.2268 - val_accuracy: 0.9000\n",
            "Epoch 3/10\n",
            "139/140 [============================>.] - ETA: 0s - loss: 0.2090 - accuracy: 0.9326\n",
            "Epoch 3: val_accuracy improved from 0.90000 to 0.96429, saving model to /content/drive/MyDrive/Deep Learning/save_model/Rqanet_2.h5\n",
            "140/140 [==============================] - 7s 47ms/step - loss: 0.2081 - accuracy: 0.9330 - val_loss: 0.1879 - val_accuracy: 0.9643\n",
            "Epoch 4/10\n",
            "139/140 [============================>.] - ETA: 0s - loss: 0.1610 - accuracy: 0.9487\n",
            "Epoch 4: val_accuracy improved from 0.96429 to 0.99286, saving model to /content/drive/MyDrive/Deep Learning/save_model/Rqanet_2.h5\n",
            "140/140 [==============================] - 13s 95ms/step - loss: 0.1614 - accuracy: 0.9482 - val_loss: 0.1112 - val_accuracy: 0.9929\n",
            "Epoch 5/10\n",
            "139/140 [============================>.] - ETA: 0s - loss: 0.1278 - accuracy: 0.9595\n",
            "Epoch 5: val_accuracy did not improve from 0.99286\n",
            "140/140 [==============================] - 4s 32ms/step - loss: 0.1285 - accuracy: 0.9589 - val_loss: 0.0774 - val_accuracy: 0.9679\n",
            "Epoch 6/10\n",
            "139/140 [============================>.] - ETA: 0s - loss: 0.0936 - accuracy: 0.9748\n",
            "Epoch 6: val_accuracy improved from 0.99286 to 1.00000, saving model to /content/drive/MyDrive/Deep Learning/save_model/Rqanet_2.h5\n",
            "140/140 [==============================] - 11s 79ms/step - loss: 0.0937 - accuracy: 0.9750 - val_loss: 0.0364 - val_accuracy: 1.0000\n",
            "Epoch 7/10\n",
            "139/140 [============================>.] - ETA: 0s - loss: 0.0751 - accuracy: 0.9793\n",
            "Epoch 7: val_accuracy did not improve from 1.00000\n",
            "140/140 [==============================] - 5s 35ms/step - loss: 0.0747 - accuracy: 0.9795 - val_loss: 0.0185 - val_accuracy: 1.0000\n",
            "Epoch 8/10\n",
            "139/140 [============================>.] - ETA: 0s - loss: 0.0611 - accuracy: 0.9856\n",
            "Epoch 8: val_accuracy did not improve from 1.00000\n",
            "140/140 [==============================] - 5s 34ms/step - loss: 0.0608 - accuracy: 0.9857 - val_loss: 0.0155 - val_accuracy: 1.0000\n",
            "Epoch 9/10\n",
            "139/140 [============================>.] - ETA: 0s - loss: 0.0435 - accuracy: 0.9901\n",
            "Epoch 9: val_accuracy did not improve from 1.00000\n",
            "140/140 [==============================] - 4s 32ms/step - loss: 0.0470 - accuracy: 0.9893 - val_loss: 0.0116 - val_accuracy: 1.0000\n",
            "Epoch 10/10\n",
            "139/140 [============================>.] - ETA: 0s - loss: 0.0398 - accuracy: 0.9919\n",
            "Epoch 10: val_accuracy did not improve from 1.00000\n",
            "140/140 [==============================] - 4s 32ms/step - loss: 0.0395 - accuracy: 0.9920 - val_loss: 0.0113 - val_accuracy: 1.0000\n"
          ]
        }
      ],
      "source": [
        "history=Rqa_net.fit(X_train,y_train , epochs=10, batch_size=8 , validation_data=(X_test,y_test) , callbacks=[model_checkpoint_callback,csv_logger])"
      ]
    },
    {
      "cell_type": "code",
      "execution_count": null,
      "metadata": {
        "colab": {
          "base_uri": "https://localhost:8080/",
          "height": 472
        },
        "id": "TSdrfsAmFkQD",
        "outputId": "7409d248-8a37-4f36-f927-31f1da3a41f8"
      },
      "outputs": [
        {
          "output_type": "display_data",
          "data": {
            "text/plain": [
              "<Figure size 640x480 with 1 Axes>"
            ],
            "image/png": "[encoded data removed]"
          },
          "metadata": {}
        }
      ],
      "source": [
        "import keras\n",
        "from matplotlib import pyplot as plt\n",
        "plt.plot(history.history['accuracy'])\n",
        "plt.plot(history.history['val_accuracy'])\n",
        "plt.title('model accuracy')\n",
        "plt.ylabel('accuracy')\n",
        "plt.xlabel('epoch')\n",
        "plt.legend(['train', 'val'], loc='upper left')\n",
        "plt.show()"
      ]
    },
    {
      "cell_type": "code",
      "execution_count": null,
      "metadata": {
        "colab": {
          "base_uri": "https://localhost:8080/",
          "height": 472
        },
        "id": "Nb3ewYsjGIcS",
        "outputId": "be31e28f-26d4-4b92-d5d8-2db712f12992"
      },
      "outputs": [
        {
          "output_type": "display_data",
          "data": {
            "text/plain": [
              "<Figure size 640x480 with 1 Axes>"
            ],
            "image/png": "[encoded data removed]"
          },
          "metadata": {}
        }
      ],
      "source": [
        "plt.plot(history.history['loss'])\n",
        "plt.plot(history.history['val_loss'])\n",
        "plt.title('model loss')\n",
        "plt.ylabel('loss')\n",
        "plt.xlabel('epoch')\n",
        "plt.legend(['train', 'val'], loc='upper left')\n",
        "plt.show()"
      ]
    },
    {
      "cell_type": "code",
      "execution_count": null,
      "metadata": {
        "id": "lWDDFKDpH-dk"
      },
      "outputs": [],
      "source": [
        "loaded_model = tf.keras.saving.load_model(\"/content/drive/MyDrive/Deep Learning/save_model/Rqanet_{}.h5\".format(fold))"
      ]
    },
    {
      "cell_type": "code",
      "execution_count": null,
      "metadata": {
        "colab": {
          "base_uri": "https://localhost:8080/"
        },
        "id": "Pb9VEIveKYkz",
        "outputId": "e3f9f515-0983-460d-90b5-4c0f9e4234cb"
      },
      "outputs": [
        {
          "output_type": "stream",
          "name": "stdout",
          "text": [
            "9/9 [==============================] - 2s 121ms/step - loss: 0.0364 - accuracy: 1.0000\n"
          ]
        },
        {
          "output_type": "execute_result",
          "data": {
            "text/plain": [
              "[0.036449745297431946, 1.0]"
            ]
          },
          "metadata": {},
          "execution_count": 26
        }
      ],
      "source": [
        "loaded_model.evaluate(X_test,y_test)"
      ]
    },
    {
      "cell_type": "code",
      "execution_count": null,
      "metadata": {
        "colab": {
          "base_uri": "https://localhost:8080/"
        },
        "id": "K5-zz5EWKnf8",
        "outputId": "867fe5f4-43d7-4b3c-ab54-4e49afef6e0d"
      },
      "outputs": [
        {
          "output_type": "stream",
          "name": "stdout",
          "text": [
            "9/9 [==============================] - 0s 23ms/step\n"
          ]
        }
      ],
      "source": [
        "pre = loaded_model.predict(X_test)"
      ]
    },
    {
      "cell_type": "code",
      "execution_count": null,
      "metadata": {
        "colab": {
          "base_uri": "https://localhost:8080/"
        },
        "id": "IP4bkdGIZ8MJ",
        "outputId": "6f9a34e9-a8c5-4119-d850-a2f6d46c7e98"
      },
      "outputs": [
        {
          "output_type": "execute_result",
          "data": {
            "text/plain": [
              "(280, 1)"
            ]
          },
          "metadata": {},
          "execution_count": 28
        }
      ],
      "source": [
        "pre.shape"
      ]
    },
    {
      "cell_type": "code",
      "execution_count": null,
      "metadata": {
        "id": "9k1oqjdiKy2z"
      },
      "outputs": [],
      "source": [
        "pre = pre.round()"
      ]
    },
    {
      "cell_type": "code",
      "execution_count": null,
      "metadata": {
        "id": "LV6Klj_rK-xy"
      },
      "outputs": [],
      "source": [
        "pre = pre.ravel()"
      ]
    },
    {
      "cell_type": "markdown",
      "metadata": {
        "id": "cU3gGpUlf98j"
      },
      "source": [
        "https://datascience.stackexchange.com/questions/111576/how-to-add-the-luong-attention-mechanism-into-cnn"
      ]
    },
    {
      "cell_type": "code",
      "execution_count": null,
      "metadata": {
        "id": "z9j1MQwFLaeV",
        "colab": {
          "base_uri": "https://localhost:8080/"
        },
        "outputId": "1a623fd1-3c75-419d-8558-aa66b6df5861"
      },
      "outputs": [
        {
          "output_type": "stream",
          "name": "stdout",
          "text": [
            "              precision    recall  f1-score   support\n",
            "\n",
            "     patient       1.00      1.00      1.00       140\n",
            "      normal       1.00      1.00      1.00       140\n",
            "\n",
            "    accuracy                           1.00       280\n",
            "   macro avg       1.00      1.00      1.00       280\n",
            "weighted avg       1.00      1.00      1.00       280\n",
            "\n"
          ]
        }
      ],
      "source": [
        "from sklearn.metrics import classification_report\n",
        "target_names = [\"patient\",\"normal\"]\n",
        "print(classification_report(y_test, pre, target_names=target_names))"
      ]
    },
    {
      "cell_type": "code",
      "execution_count": null,
      "metadata": {
        "colab": {
          "base_uri": "https://localhost:8080/"
        },
        "id": "XhBU8BxTLagG",
        "outputId": "e566fac1-acc9-485c-c7c6-241984ebc496"
      },
      "outputs": [
        {
          "output_type": "stream",
          "name": "stdout",
          "text": [
            "precision_score 1.0\n",
            "recall_score 1.0\n",
            "f1-score  1.0\n"
          ]
        }
      ],
      "source": [
        "from sklearn.metrics import precision_score,recall_score, f1_score\n",
        "print(\"precision_score\", precision_score(y_test, pre))\n",
        "print(\"recall_score\", recall_score(y_test, pre))\n",
        "print(\"f1-score \", f1_score(y_test, pre))"
      ]
    },
    {
      "cell_type": "code",
      "execution_count": null,
      "metadata": {
        "id": "rHcob6wfLaj_",
        "colab": {
          "base_uri": "https://localhost:8080/",
          "height": 473
        },
        "outputId": "54a59b7c-f847-47ab-fd6c-87e0d2bf2ff1"
      },
      "outputs": [
        {
          "output_type": "execute_result",
          "data": {
            "text/plain": [
              "<sklearn.metrics._plot.confusion_matrix.ConfusionMatrixDisplay at 0x7d2ab7f0f6d0>"
            ]
          },
          "metadata": {},
          "execution_count": 35
        },
        {
          "output_type": "display_data",
          "data": {
            "text/plain": [
              "<Figure size 640x480 with 2 Axes>"
            ],
            "image/png": "[encoded data removed]"
          },
          "metadata": {}
        }
      ],
      "source": [
        "from sklearn.metrics import ConfusionMatrixDisplay\n",
        "ConfusionMatrixDisplay.from_predictions(y_test, pre)"
      ]
    },
    {
      "cell_type": "code",
      "source": [
        "from imblearn.metrics import sensitivity_score\n",
        "from imblearn.metrics import specificity_score\n",
        "sensitivity = sensitivity_score(y_test, pre)\n",
        "specificity = specificity_score(y_test, pre)\n",
        "print(\"sensitivity =\",sensitivity)\n",
        "print(\"specificity =\",specificity)"
      ],
      "metadata": {
        "id": "UqtgyIQ3o82-",
        "colab": {
          "base_uri": "https://localhost:8080/"
        },
        "outputId": "7dd7a552-994b-4b66-d691-0798f5e607a1"
      },
      "execution_count": null,
      "outputs": [
        {
          "output_type": "stream",
          "name": "stdout",
          "text": [
            "sensitivity = 1.0\n",
            "specificity = 1.0\n"
          ]
        }
      ]
    },
    {
      "cell_type": "code",
      "source": [],
      "metadata": {
        "id": "DWzbb-QzykEL"
      },
      "execution_count": null,
      "outputs": []
    }
  ],
  "metadata": {
    "accelerator": "GPU",
    "colab": {
      "provenance": []
    },
    "kernelspec": {
      "display_name": "Python 3",
      "name": "python3"
    },
    "language_info": {
      "name": "python"
    }
  },
  "nbformat": 4,
  "nbformat_minor": 0
}